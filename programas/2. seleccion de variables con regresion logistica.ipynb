{
 "cells": [
  {
   "cell_type": "markdown",
   "metadata": {},
   "source": [
    "# Seleccion de Variables: Regresión Logistica\n",
    "\n",
    "En este notebook realizamos una seleccion de variables usando el metodo de validacion cruzada para elegir al conjunto de variables con el cual se obtenga el mejor rendimiento, usando a la regresión logística como modelo de predicción.\n",
    "\n",
    "Llamamos a las siguientes bibliotecas"
   ]
  },
  {
   "cell_type": "code",
   "execution_count": 1,
   "metadata": {},
   "outputs": [],
   "source": [
    "import pandas as pd\n",
    "import numpy as np\n",
    "import math\n",
    "%matplotlib inline\n",
    "import matplotlib.pyplot as plt\n",
    "from sklearn.metrics import auc\n",
    "import proyecto_ml\n",
    "from tqdm import tqdm_notebook as tqdm\n",
    "import warnings\n",
    "warnings.filterwarnings(\"ignore\")"
   ]
  },
  {
   "cell_type": "markdown",
   "metadata": {},
   "source": [
    "## Reparaetrización de datos\n",
    "\n",
    "Para usar regresión logistica debemos reparametrizar los datos, todas las variables de los datos que se usan son variables categoricas que tienen valores numericos, sin embargo, no todos los valores numericos de las variables llevan implicita una noción de orden. Por lo tanto es necesario reparametrizarlas usando one hot encoding, para lo cual empelaremos la siguietes funciones"
   ]
  },
  {
   "cell_type": "code",
   "execution_count": 2,
   "metadata": {},
   "outputs": [],
   "source": [
    "from sklearn.preprocessing import OneHotEncoder"
   ]
  },
  {
   "cell_type": "code",
   "execution_count": 3,
   "metadata": {},
   "outputs": [],
   "source": [
    "def reparametrizacion_sklearn(X):\n",
    "    enc = OneHotEncoder(categories='auto')\n",
    "    enc.fit(X)\n",
    "    return pd.DataFrame(enc.transform(X).toarray())"
   ]
  },
  {
   "cell_type": "markdown",
   "metadata": {},
   "source": [
    "Reparametrizamos los datos"
   ]
  },
  {
   "cell_type": "code",
   "execution_count": 4,
   "metadata": {},
   "outputs": [],
   "source": [
    "datos = pd.read_csv('datos_seleccionados.csv')\n",
    "datos_X = datos.drop(columns = ['obesidad'])\n",
    "datos_reparametrizados = reparametrizacion_sklearn(datos_X)\n",
    "datos_reparametrizados['obesidad'] = datos['obesidad']"
   ]
  },
  {
   "cell_type": "code",
   "execution_count": 5,
   "metadata": {},
   "outputs": [
    {
     "data": {
      "text/html": [
       "<div>\n",
       "<style scoped>\n",
       "    .dataframe tbody tr th:only-of-type {\n",
       "        vertical-align: middle;\n",
       "    }\n",
       "\n",
       "    .dataframe tbody tr th {\n",
       "        vertical-align: top;\n",
       "    }\n",
       "\n",
       "    .dataframe thead th {\n",
       "        text-align: right;\n",
       "    }\n",
       "</style>\n",
       "<table border=\"1\" class=\"dataframe\">\n",
       "  <thead>\n",
       "    <tr style=\"text-align: right;\">\n",
       "      <th></th>\n",
       "      <th>0</th>\n",
       "      <th>1</th>\n",
       "      <th>2</th>\n",
       "      <th>3</th>\n",
       "      <th>4</th>\n",
       "      <th>5</th>\n",
       "      <th>6</th>\n",
       "      <th>7</th>\n",
       "      <th>8</th>\n",
       "      <th>9</th>\n",
       "      <th>...</th>\n",
       "      <th>182</th>\n",
       "      <th>183</th>\n",
       "      <th>184</th>\n",
       "      <th>185</th>\n",
       "      <th>186</th>\n",
       "      <th>187</th>\n",
       "      <th>188</th>\n",
       "      <th>189</th>\n",
       "      <th>190</th>\n",
       "      <th>obesidad</th>\n",
       "    </tr>\n",
       "  </thead>\n",
       "  <tbody>\n",
       "    <tr>\n",
       "      <th>0</th>\n",
       "      <td>0.0</td>\n",
       "      <td>0.0</td>\n",
       "      <td>0.0</td>\n",
       "      <td>1.0</td>\n",
       "      <td>0.0</td>\n",
       "      <td>0.0</td>\n",
       "      <td>0.0</td>\n",
       "      <td>0.0</td>\n",
       "      <td>0.0</td>\n",
       "      <td>0.0</td>\n",
       "      <td>...</td>\n",
       "      <td>0.0</td>\n",
       "      <td>1.0</td>\n",
       "      <td>0.0</td>\n",
       "      <td>0.0</td>\n",
       "      <td>0.0</td>\n",
       "      <td>0.0</td>\n",
       "      <td>1.0</td>\n",
       "      <td>0.0</td>\n",
       "      <td>0.0</td>\n",
       "      <td>1</td>\n",
       "    </tr>\n",
       "    <tr>\n",
       "      <th>1</th>\n",
       "      <td>0.0</td>\n",
       "      <td>0.0</td>\n",
       "      <td>0.0</td>\n",
       "      <td>1.0</td>\n",
       "      <td>0.0</td>\n",
       "      <td>0.0</td>\n",
       "      <td>0.0</td>\n",
       "      <td>0.0</td>\n",
       "      <td>0.0</td>\n",
       "      <td>1.0</td>\n",
       "      <td>...</td>\n",
       "      <td>0.0</td>\n",
       "      <td>0.0</td>\n",
       "      <td>0.0</td>\n",
       "      <td>0.0</td>\n",
       "      <td>0.0</td>\n",
       "      <td>1.0</td>\n",
       "      <td>0.0</td>\n",
       "      <td>0.0</td>\n",
       "      <td>0.0</td>\n",
       "      <td>0</td>\n",
       "    </tr>\n",
       "    <tr>\n",
       "      <th>2</th>\n",
       "      <td>0.0</td>\n",
       "      <td>0.0</td>\n",
       "      <td>0.0</td>\n",
       "      <td>0.0</td>\n",
       "      <td>1.0</td>\n",
       "      <td>0.0</td>\n",
       "      <td>0.0</td>\n",
       "      <td>0.0</td>\n",
       "      <td>0.0</td>\n",
       "      <td>0.0</td>\n",
       "      <td>...</td>\n",
       "      <td>0.0</td>\n",
       "      <td>0.0</td>\n",
       "      <td>0.0</td>\n",
       "      <td>0.0</td>\n",
       "      <td>1.0</td>\n",
       "      <td>0.0</td>\n",
       "      <td>0.0</td>\n",
       "      <td>0.0</td>\n",
       "      <td>0.0</td>\n",
       "      <td>1</td>\n",
       "    </tr>\n",
       "    <tr>\n",
       "      <th>3</th>\n",
       "      <td>0.0</td>\n",
       "      <td>0.0</td>\n",
       "      <td>0.0</td>\n",
       "      <td>1.0</td>\n",
       "      <td>0.0</td>\n",
       "      <td>0.0</td>\n",
       "      <td>0.0</td>\n",
       "      <td>1.0</td>\n",
       "      <td>0.0</td>\n",
       "      <td>0.0</td>\n",
       "      <td>...</td>\n",
       "      <td>0.0</td>\n",
       "      <td>0.0</td>\n",
       "      <td>1.0</td>\n",
       "      <td>0.0</td>\n",
       "      <td>0.0</td>\n",
       "      <td>1.0</td>\n",
       "      <td>0.0</td>\n",
       "      <td>0.0</td>\n",
       "      <td>0.0</td>\n",
       "      <td>1</td>\n",
       "    </tr>\n",
       "    <tr>\n",
       "      <th>4</th>\n",
       "      <td>0.0</td>\n",
       "      <td>0.0</td>\n",
       "      <td>1.0</td>\n",
       "      <td>0.0</td>\n",
       "      <td>0.0</td>\n",
       "      <td>0.0</td>\n",
       "      <td>0.0</td>\n",
       "      <td>0.0</td>\n",
       "      <td>0.0</td>\n",
       "      <td>1.0</td>\n",
       "      <td>...</td>\n",
       "      <td>0.0</td>\n",
       "      <td>0.0</td>\n",
       "      <td>0.0</td>\n",
       "      <td>0.0</td>\n",
       "      <td>0.0</td>\n",
       "      <td>1.0</td>\n",
       "      <td>0.0</td>\n",
       "      <td>0.0</td>\n",
       "      <td>0.0</td>\n",
       "      <td>0</td>\n",
       "    </tr>\n",
       "  </tbody>\n",
       "</table>\n",
       "<p>5 rows × 192 columns</p>\n",
       "</div>"
      ],
      "text/plain": [
       "     0    1    2    3    4    5    6    7    8    9  ...  182  183  184  185  \\\n",
       "0  0.0  0.0  0.0  1.0  0.0  0.0  0.0  0.0  0.0  0.0  ...  0.0  1.0  0.0  0.0   \n",
       "1  0.0  0.0  0.0  1.0  0.0  0.0  0.0  0.0  0.0  1.0  ...  0.0  0.0  0.0  0.0   \n",
       "2  0.0  0.0  0.0  0.0  1.0  0.0  0.0  0.0  0.0  0.0  ...  0.0  0.0  0.0  0.0   \n",
       "3  0.0  0.0  0.0  1.0  0.0  0.0  0.0  1.0  0.0  0.0  ...  0.0  0.0  1.0  0.0   \n",
       "4  0.0  0.0  1.0  0.0  0.0  0.0  0.0  0.0  0.0  1.0  ...  0.0  0.0  0.0  0.0   \n",
       "\n",
       "   186  187  188  189  190  obesidad  \n",
       "0  0.0  0.0  1.0  0.0  0.0         1  \n",
       "1  0.0  1.0  0.0  0.0  0.0         0  \n",
       "2  1.0  0.0  0.0  0.0  0.0         1  \n",
       "3  0.0  1.0  0.0  0.0  0.0         1  \n",
       "4  0.0  1.0  0.0  0.0  0.0         0  \n",
       "\n",
       "[5 rows x 192 columns]"
      ]
     },
     "execution_count": 5,
     "metadata": {},
     "output_type": "execute_result"
    }
   ],
   "source": [
    "datos_reparametrizados.head(5)"
   ]
  },
  {
   "cell_type": "markdown",
   "metadata": {},
   "source": [
    "## Como usar el modelo de regresion logistica con scikit-learn?\n",
    "\n",
    "En esta parte hacemos una pequeña demostracion de como implementar el modelo de regresion logistica con scikit-learn. Aunque mas adelante, cuando ocupemos implementaciones que involucren mas lineas de codigo las llamaremos del modulo _proyecto_ml_. \n",
    "\n",
    "Sin embargo, cabe recalcar que dichas implementaciones son derivadas de esta pequeña muestra."
   ]
  },
  {
   "cell_type": "code",
   "execution_count": 6,
   "metadata": {},
   "outputs": [
    {
     "data": {
      "text/plain": [
       "LogisticRegression(solver='newton-cg')"
      ]
     },
     "execution_count": 6,
     "metadata": {},
     "output_type": "execute_result"
    }
   ],
   "source": [
    "from sklearn.linear_model import LogisticRegression\n",
    "logistic_regresion = LogisticRegression(solver='newton-cg',penalty='l2')\n",
    "X = datos_reparametrizados.drop(columns=(['obesidad']))\n",
    "Y = datos_reparametrizados['obesidad']\n",
    "logistic_regresion.fit(X,Y)"
   ]
  },
  {
   "cell_type": "markdown",
   "metadata": {},
   "source": [
    "Evaluamos el modelo. Debemos recalcar que en esta parte entrenamos y evaluamos el modelo usando todos los datos. Mas adelante dividiremos los datos en conjuntos de validacion y entrenamiento para realizar la seleccion de modelos."
   ]
  },
  {
   "cell_type": "code",
   "execution_count": 7,
   "metadata": {},
   "outputs": [
    {
     "data": {
      "text/plain": [
       "92.93680297397769"
      ]
     },
     "execution_count": 7,
     "metadata": {},
     "output_type": "execute_result"
    }
   ],
   "source": [
    "f_prueba = logistic_regresion.predict(X)\n",
    "proyecto_ml.porcentaje_de_aciertos(Y,f_prueba)"
   ]
  },
  {
   "cell_type": "markdown",
   "metadata": {},
   "source": [
    "Ahora separamos en conjunto de entrenamiento y validacion"
   ]
  },
  {
   "cell_type": "code",
   "execution_count": 8,
   "metadata": {},
   "outputs": [
    {
     "data": {
      "text/plain": [
       "86.687306501548"
      ]
     },
     "execution_count": 8,
     "metadata": {},
     "output_type": "execute_result"
    }
   ],
   "source": [
    "datos_train , datos_test = proyecto_ml.dividir_datos(datos,0.7)\n",
    "X_train = datos_train.drop(columns=['obesidad']) \n",
    "X_test = datos_test.drop(columns=['obesidad'])\n",
    "Y_train = datos_train['obesidad']\n",
    "Y_test = datos_test['obesidad']\n",
    "                         \n",
    "logistic_regresion = LogisticRegression(solver='newton-cg',penalty='l2')\n",
    "logistic_regresion.fit(X_train,Y_train)\n",
    "f_test = logistic_regresion.predict(X_test)\n",
    "proyecto_ml.porcentaje_de_aciertos(f_test,Y_test)"
   ]
  },
  {
   "cell_type": "code",
   "execution_count": 9,
   "metadata": {},
   "outputs": [],
   "source": [
    "def seleccion_de_variables(datos, seleccion_de_variables, columna_de_la_clase):\n",
    "    error_validacion = np.inf\n",
    "    variables = list(datos.columns)\n",
    "    variables.remove(columna_de_la_clase)\n",
    "    \n",
    "    for variable in variables:\n",
    "        if variable not in seleccion_de_variables: # no tomamos en cuenta variables que ya esten en el arreglo\n",
    "            \n",
    "            datos_seleccionados = datos[ seleccion_de_variables + [variable,columna_de_la_clase] ]\n",
    "            e_test , e_train = cross_validation(datos_seleccionados, columna_de_la_clase, 50) # numero de particiones\n",
    "            #print(variable)\n",
    "            \n",
    "            if e_test < error_validacion:\n",
    "                error_validacion = e_test\n",
    "                error_entrenamiento = e_train\n",
    "                variable_mas_importante = variable\n",
    "                \n",
    "    nueva_seleccion_de_variables = seleccion_de_variables + [variable_mas_importante]\n",
    "    \n",
    "    # devuelve una lista con las variables y el error producido de las predicciones con esas variables\n",
    "    return nueva_seleccion_de_variables , error_validacion , error_entrenamiento "
   ]
  },
  {
   "cell_type": "markdown",
   "metadata": {},
   "source": [
    "# Selección de Variables"
   ]
  },
  {
   "cell_type": "code",
   "execution_count": 10,
   "metadata": {},
   "outputs": [
    {
     "data": {
      "application/vnd.jupyter.widget-view+json": {
       "model_id": "b31ae71f780f4e06b2a6fdef7b6ae3b3",
       "version_major": 2,
       "version_minor": 0
      },
      "text/plain": [
       "HBox(children=(FloatProgress(value=0.0, max=30.0), HTML(value='')))"
      ]
     },
     "metadata": {},
     "output_type": "display_data"
    },
    {
     "name": "stdout",
     "output_type": "stream",
     "text": [
      "\n",
      "Las variables en orden de predictibilidad son:\n",
      "['condi1', 'peso_ehoy', 'Ainsulina', 'aes_peso', 'peso1', 'tgb_com', 'peso5', 'peso_act', 'glu_com', 'mad_diab', 'Ahba', 'com_relrec', 'peso_acc', 'Aedad_diab', 'salud_act', 'condi_act', 'estatura', 'sindro_meta', 'id_gestud', 'locout20', 'Aher6_edad', 'Ahij2_edad', 'dich_hiper', 'Atio_diabeticos', 'peso10', 'condi5', 'Aedad_hiper', 'Ahij_sobrepeso', 'Apuesto', 'estres10']\n",
      "Las variables para el modelo más optimo son:\n",
      "['condi1', 'peso_ehoy', 'Ainsulina', 'aes_peso', 'peso1', 'tgb_com', 'peso5', 'peso_act', 'glu_com', 'mad_diab', 'Ahba', 'com_relrec', 'peso_acc', 'Aedad_diab', 'salud_act', 'condi_act', 'estatura', 'sindro_meta', 'id_gestud', 'locout20']\n",
      "El modelo que usa estas variables tuvo un error en los datos de entrenamiento de: 0.14195046439628484\n"
     ]
    }
   ],
   "source": [
    "error_modelo_test = np.inf\n",
    "seleccion_variables = []\n",
    "n = len(datos.columns) - 1\n",
    "errores_test = []\n",
    "errores_train = []\n",
    "\n",
    "for i in tqdm(range(n)):\n",
    "    seleccion_variables, error_test, error_train = proyecto_ml.seleccion_de_variables(datos, seleccion_variables, 'obesidad', 'logistic_regression')\n",
    "    errores_test.append(error_test)\n",
    "    errores_train.append(error_train)\n",
    "    \n",
    "    if error_test < error_modelo_test:\n",
    "        variables_optimas = seleccion_variables\n",
    "        error_modelo_test = error_test\n",
    "\n",
    "print('Las variables en orden de predictibilidad son:')\n",
    "print(seleccion_variables)\n",
    "print('Las variables para el modelo más optimo son:')\n",
    "print(variables_optimas)\n",
    "print('El modelo que usa estas variables tuvo un error en los datos de entrenamiento de: ' + str(error_modelo_test))"
   ]
  },
  {
   "cell_type": "markdown",
   "metadata": {},
   "source": [
    "## Gráfica de Errores"
   ]
  },
  {
   "cell_type": "code",
   "execution_count": 11,
   "metadata": {},
   "outputs": [
    {
     "data": {
      "image/png": "[encoded data removed]",
      "text/plain": [
       "<Figure size 432x288 with 1 Axes>"
      ]
     },
     "metadata": {
      "needs_background": "light"
     },
     "output_type": "display_data"
    }
   ],
   "source": [
    "errores_test = np.array(errores_test) \n",
    "errores_train = np.array(errores_train) \n",
    "\n",
    "dominio = list(range(1,n+1))\n",
    "plt.plot(dominio,errores_train,'r',label=\"Error de Entrenamiento\")\n",
    "plt.plot(dominio,errores_test,'b',label=\"Error de Validacion\")\n",
    "plt.grid(True)\n",
    "plt.title('Error vs Numero de Variables del Modelo')\n",
    "plt.xlabel('Numero de Variables')\n",
    "plt.ylabel('Error Validacion Cruzada')\n",
    "plt.legend(bbox_to_anchor=(1.05, 1), loc=2, borderaxespad=0.)\n",
    "plt.show()"
   ]
  },
  {
   "cell_type": "markdown",
   "metadata": {},
   "source": [
    "# Prueba de Rendimiento"
   ]
  },
  {
   "cell_type": "code",
   "execution_count": 12,
   "metadata": {},
   "outputs": [],
   "source": [
    "def promedio_error_y_aciertos_modelo(datos,columna_de_la_clase,iteraciones):\n",
    "\n",
    "    error_modelo = 0\n",
    "    porcentaje_aciertos_modelo = 0\n",
    "\n",
    "    for i in tqdm(range(iteraciones)):\n",
    "        \n",
    "        datos_train , datos_test = proyecto_ml.dividir_datos(datos,0.7)\n",
    "    \n",
    "        X_train = datos_train.drop(columns = [columna_de_la_clase])\n",
    "        Y_train = datos_train[columna_de_la_clase]\n",
    "        X_test = datos_test.drop(columns = [columna_de_la_clase])\n",
    "        Y_test = datos_test[columna_de_la_clase]\n",
    "    \n",
    "        logistic_regresion = LogisticRegression(solver='newton-cg',penalty='l2')\n",
    "        logistic_regresion.fit(X_train,Y_train)\n",
    "    \n",
    "        f_test = logistic_regresion.predict(X_test)\n",
    "        f_train = logistic_regresion.predict(X_train)\n",
    "        \n",
    "        \n",
    "        error_iteracion = proyecto_ml.error_cuadratico(f_test,Y_test) # calculamos el error cuadratico\n",
    "        porcentaje_aciertos_iteracion = proyecto_ml.porcentaje_de_aciertos(f_test,Y_test) \n",
    "    \n",
    "        error_modelo = error_modelo + error_iteracion\n",
    "        porcentaje_aciertos_modelo = porcentaje_aciertos_modelo + porcentaje_aciertos_iteracion\n",
    "\n",
    "    print('El modelo predijo en promedio correctamente el ' + str(porcentaje_aciertos_modelo/iteraciones) + '% de los datos de test.')\n",
    "    print('El modelo tuvo en promedio un error cuadratico medio del ' + str(error_modelo/iteraciones) + '% en los datos de test.')    "
   ]
  },
  {
   "cell_type": "markdown",
   "metadata": {},
   "source": [
    "Probamos el modelo seleccionado"
   ]
  },
  {
   "cell_type": "code",
   "execution_count": 15,
   "metadata": {},
   "outputs": [
    {
     "data": {
      "application/vnd.jupyter.widget-view+json": {
       "model_id": "aab6e10d430548e8b000a6fcd86236d8",
       "version_major": 2,
       "version_minor": 0
      },
      "text/plain": [
       "HBox(children=(FloatProgress(value=0.0), HTML(value='')))"
      ]
     },
     "metadata": {},
     "output_type": "display_data"
    },
    {
     "name": "stdout",
     "output_type": "stream",
     "text": [
      "\n",
      "El modelo predijo en promedio correctamente el 84.56346749226007% de los datos de test.\n",
      "El modelo tuvo en promedio un error cuadratico medio del 0.15436532507739936% en los datos de test.\n"
     ]
    }
   ],
   "source": [
    "datos_obesidad_modelo_selec = datos[variables_optimas+['obesidad']]\n",
    "promedio_error_y_aciertos_modelo(datos_obesidad_modelo_selec,'obesidad',100)"
   ]
  }
 ],
 "metadata": {
  "kernelspec": {
   "display_name": "Python 3",
   "language": "python",
   "name": "python3"
  },
  "language_info": {
   "codemirror_mode": {
    "name": "ipython",
    "version": 3
   },
   "file_extension": ".py",
   "mimetype": "text/x-python",
   "name": "python",
   "nbconvert_exporter": "python",
   "pygments_lexer": "ipython3",
   "version": "3.8.3"
  }
 },
 "nbformat": 4,
 "nbformat_minor": 4
}
