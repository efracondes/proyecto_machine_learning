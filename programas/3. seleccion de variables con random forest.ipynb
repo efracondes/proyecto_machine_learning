{
 "cells": [
  {
   "cell_type": "markdown",
   "metadata": {},
   "source": [
    "# Selección de Variables: Random Forest\n",
    "\n",
    "Aqui hacemos un analisis un poco diferente usando el algoritmo de random forest. A diferencia de los algoritmos de regresión logística y CBI, random forest tiene una propiedad que nos permite conocer la importancia de cada una de las variables para predecir a la clase objetivo. \n",
    "\n",
    "Primero debemos saber con cuantos arboles el rendimiento del algoritmo converge, para esto una selección de modelos para saber cuantos arboles son los apropiados para el random forest y despues usando ese numero de arboles calcularemos la importancia de als variables segun el random forests. Finalmente haremos una seleccion de variables tomando la importancia de las variables segun el random forest."
   ]
  },
  {
   "cell_type": "markdown",
   "metadata": {},
   "source": [
    " Comó implementar un Random Forest con Scikit-Learn\n",
    "\n",
    "Esta es una pequeña muestra de como implementar un Random Forest con Scikit-Learn"
   ]
  },
  {
   "cell_type": "code",
   "execution_count": 1,
   "metadata": {},
   "outputs": [],
   "source": [
    "import pandas as pd\n",
    "import numpy as np\n",
    "import math\n",
    "%matplotlib inline\n",
    "import matplotlib.pyplot as plt\n",
    "from sklearn import metrics\n",
    "import proyecto_ml\n",
    "from tqdm import tqdm_notebook as tqdm\n",
    "import warnings\n",
    "warnings.filterwarnings(\"ignore\")\n",
    "from sklearn.ensemble import RandomForestClassifier\n",
    "from sklearn.model_selection import train_test_split\n",
    "from sklearn.feature_selection import SelectFromModel\n",
    "from sklearn.metrics import accuracy_score\n",
    "from sklearn.model_selection import train_test_split"
   ]
  },
  {
   "cell_type": "markdown",
   "metadata": {},
   "source": [
    "Cargamos los datos"
   ]
  },
  {
   "cell_type": "code",
   "execution_count": 2,
   "metadata": {},
   "outputs": [],
   "source": [
    "datos = pd.read_csv('datos_seleccionados.csv' )"
   ]
  },
  {
   "cell_type": "markdown",
   "metadata": {},
   "source": [
    "Dividimos los datos"
   ]
  },
  {
   "cell_type": "code",
   "execution_count": 3,
   "metadata": {},
   "outputs": [],
   "source": [
    "X = datos.drop(columns=['obesidad'])\n",
    "Y = datos['obesidad']"
   ]
  },
  {
   "cell_type": "code",
   "execution_count": 4,
   "metadata": {},
   "outputs": [],
   "source": [
    "X_train , X_test , Y_train , Y_test = train_test_split(X, Y, train_size = 0.7, random_state=42)"
   ]
  },
  {
   "cell_type": "markdown",
   "metadata": {},
   "source": [
    "Entrenamos el algoritmo"
   ]
  },
  {
   "cell_type": "code",
   "execution_count": 5,
   "metadata": {},
   "outputs": [
    {
     "data": {
      "text/plain": [
       "RandomForestClassifier(n_estimators=1000, random_state=0)"
      ]
     },
     "execution_count": 5,
     "metadata": {},
     "output_type": "execute_result"
    }
   ],
   "source": [
    "clf = RandomForestClassifier(n_estimators=1000, random_state=0)\n",
    "clf.fit(X_train, Y_train)"
   ]
  },
  {
   "cell_type": "markdown",
   "metadata": {},
   "source": [
    "Evaluamos el modelo"
   ]
  },
  {
   "cell_type": "code",
   "execution_count": 6,
   "metadata": {},
   "outputs": [
    {
     "data": {
      "text/plain": [
       "84.52012383900929"
      ]
     },
     "execution_count": 6,
     "metadata": {},
     "output_type": "execute_result"
    }
   ],
   "source": [
    "f_test = clf.predict(X_test)\n",
    "proyecto_ml.porcentaje_de_aciertos(f_test,Y_test)"
   ]
  },
  {
   "cell_type": "markdown",
   "metadata": {},
   "source": [
    "Veamos como podemos obtener las importancias de las variables"
   ]
  },
  {
   "cell_type": "code",
   "execution_count": 7,
   "metadata": {},
   "outputs": [
    {
     "data": {
      "text/html": [
       "<div>\n",
       "<style scoped>\n",
       "    .dataframe tbody tr th:only-of-type {\n",
       "        vertical-align: middle;\n",
       "    }\n",
       "\n",
       "    .dataframe tbody tr th {\n",
       "        vertical-align: top;\n",
       "    }\n",
       "\n",
       "    .dataframe thead th {\n",
       "        text-align: right;\n",
       "    }\n",
       "</style>\n",
       "<table border=\"1\" class=\"dataframe\">\n",
       "  <thead>\n",
       "    <tr style=\"text-align: right;\">\n",
       "      <th></th>\n",
       "      <th>variables</th>\n",
       "      <th>importancia</th>\n",
       "    </tr>\n",
       "  </thead>\n",
       "  <tbody>\n",
       "    <tr>\n",
       "      <th>5</th>\n",
       "      <td>aes_peso</td>\n",
       "      <td>0.123356</td>\n",
       "    </tr>\n",
       "    <tr>\n",
       "      <th>3</th>\n",
       "      <td>peso_ehoy</td>\n",
       "      <td>0.099959</td>\n",
       "    </tr>\n",
       "    <tr>\n",
       "      <th>1</th>\n",
       "      <td>Ainsulina</td>\n",
       "      <td>0.089717</td>\n",
       "    </tr>\n",
       "    <tr>\n",
       "      <th>0</th>\n",
       "      <td>peso_act</td>\n",
       "      <td>0.088449</td>\n",
       "    </tr>\n",
       "    <tr>\n",
       "      <th>2</th>\n",
       "      <td>peso1</td>\n",
       "      <td>0.077507</td>\n",
       "    </tr>\n",
       "    <tr>\n",
       "      <th>14</th>\n",
       "      <td>estatura</td>\n",
       "      <td>0.044584</td>\n",
       "    </tr>\n",
       "    <tr>\n",
       "      <th>21</th>\n",
       "      <td>Apuesto</td>\n",
       "      <td>0.040514</td>\n",
       "    </tr>\n",
       "    <tr>\n",
       "      <th>17</th>\n",
       "      <td>id_gestud</td>\n",
       "      <td>0.033754</td>\n",
       "    </tr>\n",
       "    <tr>\n",
       "      <th>27</th>\n",
       "      <td>Atio_diabeticos</td>\n",
       "      <td>0.031938</td>\n",
       "    </tr>\n",
       "    <tr>\n",
       "      <th>23</th>\n",
       "      <td>estres10</td>\n",
       "      <td>0.026162</td>\n",
       "    </tr>\n",
       "    <tr>\n",
       "      <th>4</th>\n",
       "      <td>peso5</td>\n",
       "      <td>0.025991</td>\n",
       "    </tr>\n",
       "    <tr>\n",
       "      <th>28</th>\n",
       "      <td>Ahij2_edad</td>\n",
       "      <td>0.024975</td>\n",
       "    </tr>\n",
       "    <tr>\n",
       "      <th>6</th>\n",
       "      <td>sindro_meta</td>\n",
       "      <td>0.024942</td>\n",
       "    </tr>\n",
       "    <tr>\n",
       "      <th>8</th>\n",
       "      <td>condi_act</td>\n",
       "      <td>0.023850</td>\n",
       "    </tr>\n",
       "    <tr>\n",
       "      <th>25</th>\n",
       "      <td>condi5</td>\n",
       "      <td>0.022345</td>\n",
       "    </tr>\n",
       "    <tr>\n",
       "      <th>29</th>\n",
       "      <td>locout20</td>\n",
       "      <td>0.021628</td>\n",
       "    </tr>\n",
       "    <tr>\n",
       "      <th>9</th>\n",
       "      <td>Aedad_hiper</td>\n",
       "      <td>0.021269</td>\n",
       "    </tr>\n",
       "    <tr>\n",
       "      <th>15</th>\n",
       "      <td>condi1</td>\n",
       "      <td>0.018778</td>\n",
       "    </tr>\n",
       "    <tr>\n",
       "      <th>19</th>\n",
       "      <td>com_relrec</td>\n",
       "      <td>0.018198</td>\n",
       "    </tr>\n",
       "    <tr>\n",
       "      <th>13</th>\n",
       "      <td>salud_act</td>\n",
       "      <td>0.018159</td>\n",
       "    </tr>\n",
       "    <tr>\n",
       "      <th>16</th>\n",
       "      <td>mad_diab</td>\n",
       "      <td>0.017183</td>\n",
       "    </tr>\n",
       "    <tr>\n",
       "      <th>22</th>\n",
       "      <td>Aher6_edad</td>\n",
       "      <td>0.016756</td>\n",
       "    </tr>\n",
       "    <tr>\n",
       "      <th>7</th>\n",
       "      <td>dich_hiper</td>\n",
       "      <td>0.015005</td>\n",
       "    </tr>\n",
       "    <tr>\n",
       "      <th>26</th>\n",
       "      <td>Ahij_sobrepeso</td>\n",
       "      <td>0.014291</td>\n",
       "    </tr>\n",
       "    <tr>\n",
       "      <th>10</th>\n",
       "      <td>peso10</td>\n",
       "      <td>0.013784</td>\n",
       "    </tr>\n",
       "    <tr>\n",
       "      <th>18</th>\n",
       "      <td>tgb_com</td>\n",
       "      <td>0.012704</td>\n",
       "    </tr>\n",
       "    <tr>\n",
       "      <th>11</th>\n",
       "      <td>Ahba</td>\n",
       "      <td>0.012156</td>\n",
       "    </tr>\n",
       "    <tr>\n",
       "      <th>12</th>\n",
       "      <td>peso_acc</td>\n",
       "      <td>0.010651</td>\n",
       "    </tr>\n",
       "    <tr>\n",
       "      <th>20</th>\n",
       "      <td>glu_com</td>\n",
       "      <td>0.007463</td>\n",
       "    </tr>\n",
       "    <tr>\n",
       "      <th>24</th>\n",
       "      <td>Aedad_diab</td>\n",
       "      <td>0.003932</td>\n",
       "    </tr>\n",
       "  </tbody>\n",
       "</table>\n",
       "</div>"
      ],
      "text/plain": [
       "          variables  importancia\n",
       "5          aes_peso     0.123356\n",
       "3         peso_ehoy     0.099959\n",
       "1         Ainsulina     0.089717\n",
       "0          peso_act     0.088449\n",
       "2             peso1     0.077507\n",
       "14         estatura     0.044584\n",
       "21          Apuesto     0.040514\n",
       "17        id_gestud     0.033754\n",
       "27  Atio_diabeticos     0.031938\n",
       "23         estres10     0.026162\n",
       "4             peso5     0.025991\n",
       "28       Ahij2_edad     0.024975\n",
       "6       sindro_meta     0.024942\n",
       "8         condi_act     0.023850\n",
       "25           condi5     0.022345\n",
       "29         locout20     0.021628\n",
       "9       Aedad_hiper     0.021269\n",
       "15           condi1     0.018778\n",
       "19       com_relrec     0.018198\n",
       "13        salud_act     0.018159\n",
       "16         mad_diab     0.017183\n",
       "22       Aher6_edad     0.016756\n",
       "7        dich_hiper     0.015005\n",
       "26   Ahij_sobrepeso     0.014291\n",
       "10           peso10     0.013784\n",
       "18          tgb_com     0.012704\n",
       "11             Ahba     0.012156\n",
       "12         peso_acc     0.010651\n",
       "20          glu_com     0.007463\n",
       "24       Aedad_diab     0.003932"
      ]
     },
     "execution_count": 7,
     "metadata": {},
     "output_type": "execute_result"
    }
   ],
   "source": [
    "importancia_de_las_variables = pd.DataFrame(X_train.columns,columns = ['variables'])\n",
    "importancia_de_las_variables['importancia'] = clf.feature_importances_\n",
    "importancia_de_las_variables =  importancia_de_las_variables.sort_values('importancia', ascending = False)\n",
    "importancia_de_las_variables"
   ]
  },
  {
   "cell_type": "markdown",
   "metadata": {},
   "source": [
    "# ¿Cuantos Arboles Son Necesarios Para Obtener una Buen Rednimiento?\n",
    "\n",
    "Para saber cuantos arboles es necesario usar para entrenar el random forest neceseitamos haremos una gráfica con el porcentaje de aciertos vs numero de arboles empleados usando siempre el mismo set de test y de trainin"
   ]
  },
  {
   "cell_type": "code",
   "execution_count": 8,
   "metadata": {},
   "outputs": [],
   "source": [
    "X_train , X_test , Y_train , Y_test = train_test_split(X, Y, train_size = 0.7, random_state=42)"
   ]
  },
  {
   "cell_type": "code",
   "execution_count": 9,
   "metadata": {},
   "outputs": [
    {
     "data": {
      "application/vnd.jupyter.widget-view+json": {
       "model_id": "79296228ecd74164b85e9482612278ed",
       "version_major": 2,
       "version_minor": 0
      },
      "text/plain": [
       "HBox(children=(FloatProgress(value=0.0), HTML(value='')))"
      ]
     },
     "metadata": {},
     "output_type": "display_data"
    },
    {
     "name": "stdout",
     "output_type": "stream",
     "text": [
      "\n"
     ]
    }
   ],
   "source": [
    "rango = np.linspace(10,10000,num = 100)\n",
    "#rango = np.linspace(10,10000,num = 2)\n",
    "numero_de_arboles = []\n",
    "porcentaje_aciertos = []\n",
    "count = 1\n",
    "\n",
    "for i in tqdm(rango):\n",
    "    arboles = int(i)\n",
    "    count =  count + 1\n",
    "    \n",
    "    bosque = RandomForestClassifier(n_estimators=arboles, random_state=0)\n",
    "    bosque.fit(X_train, Y_train)\n",
    "    f_test = bosque.predict(X_test)\n",
    "    porc_aciertos = proyecto_ml.porcentaje_de_aciertos(f_test,Y_test)\n",
    "    \n",
    "    numero_de_arboles.append(arboles)\n",
    "    porcentaje_aciertos.append(porc_aciertos)"
   ]
  },
  {
   "cell_type": "code",
   "execution_count": 10,
   "metadata": {},
   "outputs": [
    {
     "data": {
      "image/png": "[encoded data removed]",
      "text/plain": [
       "<Figure size 432x288 with 1 Axes>"
      ]
     },
     "metadata": {
      "needs_background": "light"
     },
     "output_type": "display_data"
    }
   ],
   "source": [
    "plt.plot(numero_de_arboles,porcentaje_aciertos,'b')\n",
    "plt.grid(True)\n",
    "plt.title('Porcentaje de Aciertos vs Numero de Arboles')\n",
    "plt.xlabel('Numero de Arboles')\n",
    "plt.ylabel('Porcentaje de Aciertos')\n",
    "#plt.legend(bbox_to_anchor=(1.05, 1), loc=2, borderaxespad=0.)\n",
    "plt.show()  "
   ]
  },
  {
   "cell_type": "markdown",
   "metadata": {},
   "source": [
    "Notemos que para bosques mayores de 2000 arboles el numero de aciertos parece conveger. Por esta razon de ahora en adelante solo usaremos bosques de 2000 arboles\n",
    "\n",
    "# Obtenemos la Lista de las Variables más Imortantes\n",
    "\n",
    "Entrenamos un bosque con todos los datos y obtenemos la lista de las variables más importantes"
   ]
  },
  {
   "cell_type": "code",
   "execution_count": 11,
   "metadata": {},
   "outputs": [],
   "source": [
    "N_arboles = 2000  # numero de arboles razonable 8000"
   ]
  },
  {
   "cell_type": "code",
   "execution_count": 12,
   "metadata": {},
   "outputs": [
    {
     "data": {
      "text/plain": [
       "RandomForestClassifier(n_estimators=2000, random_state=0)"
      ]
     },
     "execution_count": 12,
     "metadata": {},
     "output_type": "execute_result"
    }
   ],
   "source": [
    "X = datos.drop(columns = ['obesidad'])\n",
    "Y = datos['obesidad']\n",
    "bosque = RandomForestClassifier(n_estimators=N_arboles, random_state=0)\n",
    "bosque.fit(X,Y)"
   ]
  },
  {
   "cell_type": "code",
   "execution_count": 13,
   "metadata": {},
   "outputs": [
    {
     "data": {
      "text/html": [
       "<div>\n",
       "<style scoped>\n",
       "    .dataframe tbody tr th:only-of-type {\n",
       "        vertical-align: middle;\n",
       "    }\n",
       "\n",
       "    .dataframe tbody tr th {\n",
       "        vertical-align: top;\n",
       "    }\n",
       "\n",
       "    .dataframe thead th {\n",
       "        text-align: right;\n",
       "    }\n",
       "</style>\n",
       "<table border=\"1\" class=\"dataframe\">\n",
       "  <thead>\n",
       "    <tr style=\"text-align: right;\">\n",
       "      <th></th>\n",
       "      <th>variables</th>\n",
       "      <th>importancia</th>\n",
       "    </tr>\n",
       "  </thead>\n",
       "  <tbody>\n",
       "    <tr>\n",
       "      <th>5</th>\n",
       "      <td>aes_peso</td>\n",
       "      <td>0.116439</td>\n",
       "    </tr>\n",
       "    <tr>\n",
       "      <th>3</th>\n",
       "      <td>peso_ehoy</td>\n",
       "      <td>0.099123</td>\n",
       "    </tr>\n",
       "    <tr>\n",
       "      <th>1</th>\n",
       "      <td>Ainsulina</td>\n",
       "      <td>0.092898</td>\n",
       "    </tr>\n",
       "    <tr>\n",
       "      <th>0</th>\n",
       "      <td>peso_act</td>\n",
       "      <td>0.084104</td>\n",
       "    </tr>\n",
       "    <tr>\n",
       "      <th>2</th>\n",
       "      <td>peso1</td>\n",
       "      <td>0.067894</td>\n",
       "    </tr>\n",
       "    <tr>\n",
       "      <th>14</th>\n",
       "      <td>estatura</td>\n",
       "      <td>0.047805</td>\n",
       "    </tr>\n",
       "    <tr>\n",
       "      <th>21</th>\n",
       "      <td>Apuesto</td>\n",
       "      <td>0.042823</td>\n",
       "    </tr>\n",
       "    <tr>\n",
       "      <th>17</th>\n",
       "      <td>id_gestud</td>\n",
       "      <td>0.036839</td>\n",
       "    </tr>\n",
       "    <tr>\n",
       "      <th>27</th>\n",
       "      <td>Atio_diabeticos</td>\n",
       "      <td>0.033313</td>\n",
       "    </tr>\n",
       "    <tr>\n",
       "      <th>23</th>\n",
       "      <td>estres10</td>\n",
       "      <td>0.028467</td>\n",
       "    </tr>\n",
       "    <tr>\n",
       "      <th>4</th>\n",
       "      <td>peso5</td>\n",
       "      <td>0.026714</td>\n",
       "    </tr>\n",
       "    <tr>\n",
       "      <th>8</th>\n",
       "      <td>condi_act</td>\n",
       "      <td>0.026300</td>\n",
       "    </tr>\n",
       "    <tr>\n",
       "      <th>28</th>\n",
       "      <td>Ahij2_edad</td>\n",
       "      <td>0.025754</td>\n",
       "    </tr>\n",
       "    <tr>\n",
       "      <th>6</th>\n",
       "      <td>sindro_meta</td>\n",
       "      <td>0.025066</td>\n",
       "    </tr>\n",
       "    <tr>\n",
       "      <th>29</th>\n",
       "      <td>locout20</td>\n",
       "      <td>0.023124</td>\n",
       "    </tr>\n",
       "    <tr>\n",
       "      <th>13</th>\n",
       "      <td>salud_act</td>\n",
       "      <td>0.021829</td>\n",
       "    </tr>\n",
       "    <tr>\n",
       "      <th>25</th>\n",
       "      <td>condi5</td>\n",
       "      <td>0.021791</td>\n",
       "    </tr>\n",
       "    <tr>\n",
       "      <th>19</th>\n",
       "      <td>com_relrec</td>\n",
       "      <td>0.021278</td>\n",
       "    </tr>\n",
       "    <tr>\n",
       "      <th>15</th>\n",
       "      <td>condi1</td>\n",
       "      <td>0.020583</td>\n",
       "    </tr>\n",
       "    <tr>\n",
       "      <th>9</th>\n",
       "      <td>Aedad_hiper</td>\n",
       "      <td>0.016726</td>\n",
       "    </tr>\n",
       "    <tr>\n",
       "      <th>11</th>\n",
       "      <td>Ahba</td>\n",
       "      <td>0.015741</td>\n",
       "    </tr>\n",
       "    <tr>\n",
       "      <th>10</th>\n",
       "      <td>peso10</td>\n",
       "      <td>0.015487</td>\n",
       "    </tr>\n",
       "    <tr>\n",
       "      <th>26</th>\n",
       "      <td>Ahij_sobrepeso</td>\n",
       "      <td>0.015084</td>\n",
       "    </tr>\n",
       "    <tr>\n",
       "      <th>22</th>\n",
       "      <td>Aher6_edad</td>\n",
       "      <td>0.014943</td>\n",
       "    </tr>\n",
       "    <tr>\n",
       "      <th>12</th>\n",
       "      <td>peso_acc</td>\n",
       "      <td>0.013072</td>\n",
       "    </tr>\n",
       "    <tr>\n",
       "      <th>16</th>\n",
       "      <td>mad_diab</td>\n",
       "      <td>0.012392</td>\n",
       "    </tr>\n",
       "    <tr>\n",
       "      <th>18</th>\n",
       "      <td>tgb_com</td>\n",
       "      <td>0.012161</td>\n",
       "    </tr>\n",
       "    <tr>\n",
       "      <th>7</th>\n",
       "      <td>dich_hiper</td>\n",
       "      <td>0.010106</td>\n",
       "    </tr>\n",
       "    <tr>\n",
       "      <th>20</th>\n",
       "      <td>glu_com</td>\n",
       "      <td>0.008463</td>\n",
       "    </tr>\n",
       "    <tr>\n",
       "      <th>24</th>\n",
       "      <td>Aedad_diab</td>\n",
       "      <td>0.003679</td>\n",
       "    </tr>\n",
       "  </tbody>\n",
       "</table>\n",
       "</div>"
      ],
      "text/plain": [
       "          variables  importancia\n",
       "5          aes_peso     0.116439\n",
       "3         peso_ehoy     0.099123\n",
       "1         Ainsulina     0.092898\n",
       "0          peso_act     0.084104\n",
       "2             peso1     0.067894\n",
       "14         estatura     0.047805\n",
       "21          Apuesto     0.042823\n",
       "17        id_gestud     0.036839\n",
       "27  Atio_diabeticos     0.033313\n",
       "23         estres10     0.028467\n",
       "4             peso5     0.026714\n",
       "8         condi_act     0.026300\n",
       "28       Ahij2_edad     0.025754\n",
       "6       sindro_meta     0.025066\n",
       "29         locout20     0.023124\n",
       "13        salud_act     0.021829\n",
       "25           condi5     0.021791\n",
       "19       com_relrec     0.021278\n",
       "15           condi1     0.020583\n",
       "9       Aedad_hiper     0.016726\n",
       "11             Ahba     0.015741\n",
       "10           peso10     0.015487\n",
       "26   Ahij_sobrepeso     0.015084\n",
       "22       Aher6_edad     0.014943\n",
       "12         peso_acc     0.013072\n",
       "16         mad_diab     0.012392\n",
       "18          tgb_com     0.012161\n",
       "7        dich_hiper     0.010106\n",
       "20          glu_com     0.008463\n",
       "24       Aedad_diab     0.003679"
      ]
     },
     "execution_count": 13,
     "metadata": {},
     "output_type": "execute_result"
    }
   ],
   "source": [
    "importancia_de_las_variables = pd.DataFrame(X_train.columns,columns = ['variables'])\n",
    "importancia_de_las_variables['importancia'] = bosque.feature_importances_\n",
    "importancia_de_las_variables =  importancia_de_las_variables.sort_values('importancia', ascending = False)\n",
    "importancia_de_las_variables"
   ]
  },
  {
   "cell_type": "markdown",
   "metadata": {},
   "source": [
    "## Selección de Variables\n",
    "\n",
    "Con la lista de variables obtenidas en el paso anterior hacemos uns pequeña selección de variables usando validación cruzada"
   ]
  },
  {
   "cell_type": "code",
   "execution_count": 14,
   "metadata": {},
   "outputs": [
    {
     "data": {
      "application/vnd.jupyter.widget-view+json": {
       "model_id": "f7932c7689ac4a4db7ad1851b0dd000b",
       "version_major": 2,
       "version_minor": 0
      },
      "text/plain": [
       "HBox(children=(FloatProgress(value=0.0, max=30.0), HTML(value='')))"
      ]
     },
     "metadata": {},
     "output_type": "display_data"
    },
    {
     "name": "stdout",
     "output_type": "stream",
     "text": [
      "\n"
     ]
    }
   ],
   "source": [
    "variables_orden_importancia = list(importancia_de_las_variables['variables'])\n",
    "variables_en_uso = []\n",
    "error_min = np.inf\n",
    "#no_iteraciones = 50 #50\n",
    "no_iteraciones = 20\n",
    "errores_test = []\n",
    "errores_train = []\n",
    "\n",
    "for variables in tqdm(variables_orden_importancia):\n",
    "    variables_en_uso.append(variables)\n",
    "    \n",
    "    err_test , err_train = proyecto_ml.cross_validation(datos[variables_en_uso + ['obesidad']], 'obesidad', no_iteraciones, modelo = 'random_forest')\n",
    "    errores_test.append(err_test)\n",
    "    errores_train.append(err_train)\n",
    "    \n",
    "    if err_test < error_min:\n",
    "        variables_optimas = list(variables_en_uso)\n",
    "        error_min = err_test\n",
    "        "
   ]
  },
  {
   "cell_type": "code",
   "execution_count": 15,
   "metadata": {},
   "outputs": [
    {
     "name": "stdout",
     "output_type": "stream",
     "text": [
      "Las variables para el modelo más optimo son:\n",
      "['aes_peso', 'peso_ehoy', 'Ainsulina', 'peso_act', 'peso1', 'estatura']\n",
      "El modelo que usa estas variables tuvo un error en los datos de entrenamiento de: 0.10820433436532509\n"
     ]
    }
   ],
   "source": [
    "print('Las variables para el modelo más optimo son:')\n",
    "print(variables_optimas)\n",
    "print('El modelo que usa estas variables tuvo un error en los datos de entrenamiento de: ' + str(error_min))  "
   ]
  },
  {
   "cell_type": "code",
   "execution_count": 22,
   "metadata": {},
   "outputs": [
    {
     "data": {
      "image/png": "[encoded data removed]",
      "text/plain": [
       "<Figure size 432x288 with 1 Axes>"
      ]
     },
     "metadata": {
      "needs_background": "light"
     },
     "output_type": "display_data"
    }
   ],
   "source": [
    "errores_test = np.array(errores_test) \n",
    "errores_train = np.array(errores_train) \n",
    "n = len(variables_orden_importancia)\n",
    "\n",
    "\n",
    "dominio = list(range(1,n+1))\n",
    "plt.plot(dominio,errores_train,'r',label=\"Error de Entrenamiento\")\n",
    "plt.plot(dominio,errores_test,'b',label=\"Error de Validacion\")\n",
    "plt.grid(True)\n",
    "plt.title('Error vs Numero de Variables del Modelo')\n",
    "plt.xlabel('Numero de Variables')\n",
    "plt.ylabel('Error Validacion Cruzada')\n",
    "plt.legend(bbox_to_anchor=(1.05, 1), loc=2, borderaxespad=0.)\n",
    "plt.show()  "
   ]
  },
  {
   "cell_type": "markdown",
   "metadata": {},
   "source": [
    "## Rendimiento del mejor modelo"
   ]
  },
  {
   "cell_type": "code",
   "execution_count": 23,
   "metadata": {},
   "outputs": [],
   "source": [
    "def promedio_error_y_aciertos_modelo(datos,clase,iteraciones):\n",
    "\n",
    "    error_modelo = 0\n",
    "    porcentaje_aciertos_modelo = 0\n",
    "\n",
    "    for i in tqdm(range(iteraciones)):\n",
    "        \n",
    "        datos_train , datos_test = proyecto_ml.dividir_datos(datos,0.7)\n",
    "\n",
    "        X_train = datos_train.drop(columns = [clase])\n",
    "        Y_train = datos_train[clase]\n",
    "\n",
    "        X_test = datos_test.drop(columns = [clase])\n",
    "        Y_test = datos_test[clase]\n",
    "        \n",
    "        bosque = RandomForestClassifier(n_estimators=N_arboles, random_state=0)\n",
    "        bosque.fit(X_train,Y_train)\n",
    "        \n",
    "        f_test = bosque.predict(X_test)\n",
    "    \n",
    "        error_iteracion = proyecto_ml.error_cuadratico(f_test,Y_test) # calculamos el error cuadratico\n",
    "        porcentaje_aciertos_iteracion = proyecto_ml.porcentaje_de_aciertos(f_test,Y_test) \n",
    "    \n",
    "        error_modelo = error_modelo + error_iteracion\n",
    "        porcentaje_aciertos_modelo = porcentaje_aciertos_modelo + porcentaje_aciertos_iteracion\n",
    "\n",
    "    print('El modelo predijo en promedio correctamente el ' + str(porcentaje_aciertos_modelo/iteraciones) + '% de los datos de test.')\n",
    "    print('El modelo tuvo en promedio un error cuadratico medio del ' + str(error_modelo/iteraciones) + '% en los datos de test.')\n",
    "    \n",
    "    \n",
    "    "
   ]
  },
  {
   "cell_type": "code",
   "execution_count": 24,
   "metadata": {},
   "outputs": [
    {
     "data": {
      "application/vnd.jupyter.widget-view+json": {
       "model_id": "6644b15205eb408ea3c278d9960ee29b",
       "version_major": 2,
       "version_minor": 0
      },
      "text/plain": [
       "HBox(children=(FloatProgress(value=0.0), HTML(value='')))"
      ]
     },
     "metadata": {},
     "output_type": "display_data"
    },
    {
     "name": "stdout",
     "output_type": "stream",
     "text": [
      "\n",
      "El modelo predijo en promedio correctamente el 88.56656346749229% de los datos de test.\n",
      "El modelo tuvo en promedio un error cuadratico medio del 0.11433436532507735% en los datos de test.\n"
     ]
    }
   ],
   "source": [
    "modelo_obesidad = datos[variables_optimas + ['obesidad']]\n",
    "promedio_error_y_aciertos_modelo(modelo_obesidad,'obesidad',100)"
   ]
  }
 ],
 "metadata": {
  "kernelspec": {
   "display_name": "Python 3",
   "language": "python",
   "name": "python3"
  },
  "language_info": {
   "codemirror_mode": {
    "name": "ipython",
    "version": 3
   },
   "file_extension": ".py",
   "mimetype": "text/x-python",
   "name": "python",
   "nbconvert_exporter": "python",
   "pygments_lexer": "ipython3",
   "version": "3.8.3"
  }
 },
 "nbformat": 4,
 "nbformat_minor": 4
}
