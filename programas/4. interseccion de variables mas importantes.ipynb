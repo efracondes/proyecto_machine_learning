{
 "cells": [
  {
   "cell_type": "markdown",
   "metadata": {},
   "source": [
    "# Interseccción de Variables Más Importantes\n",
    "\n",
    "Finalmente, aquí calculamos la intersección de los conjuntos de variables más importantes encontradas por los dos métodos implementados."
   ]
  },
  {
   "cell_type": "code",
   "execution_count": 3,
   "metadata": {},
   "outputs": [],
   "source": [
    "variables_reg_log = set(['condi1', 'peso_ehoy', 'Ainsulina', 'aes_peso', 'peso1', 'tgb_com', 'peso5', 'peso_act', 'glu_com', 'mad_diab', 'Ahba', 'com_relrec', 'peso_acc', 'Aedad_diab', 'salud_act', 'condi_act', 'estatura', 'sindro_meta', 'id_gestud', 'locout20'])"
   ]
  },
  {
   "cell_type": "code",
   "execution_count": 4,
   "metadata": {},
   "outputs": [],
   "source": [
    "variables_random_for = set(['aes_peso', 'peso_ehoy', 'Ainsulina', 'peso_act', 'peso1', 'estatura'])"
   ]
  },
  {
   "cell_type": "markdown",
   "metadata": {},
   "source": [
    "Intersección"
   ]
  },
  {
   "cell_type": "code",
   "execution_count": 5,
   "metadata": {},
   "outputs": [
    {
     "data": {
      "text/plain": [
       "{'Ainsulina', 'aes_peso', 'estatura', 'peso1', 'peso_act', 'peso_ehoy'}"
      ]
     },
     "execution_count": 5,
     "metadata": {},
     "output_type": "execute_result"
    }
   ],
   "source": [
    "variables_reg_log.intersection(variables_random_for)"
   ]
  }
 ],
 "metadata": {
  "kernelspec": {
   "display_name": "Python 3",
   "language": "python",
   "name": "python3"
  },
  "language_info": {
   "codemirror_mode": {
    "name": "ipython",
    "version": 3
   },
   "file_extension": ".py",
   "mimetype": "text/x-python",
   "name": "python",
   "nbconvert_exporter": "python",
   "pygments_lexer": "ipython3",
   "version": "3.8.3"
  }
 },
 "nbformat": 4,
 "nbformat_minor": 4
}
